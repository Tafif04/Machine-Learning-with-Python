{
 "cells": [
  {
   "cell_type": "markdown",
   "id": "95938585",
   "metadata": {},
   "source": [
    "# **HEART DISEASE PREDICTION**"
   ]
  },
  {
   "cell_type": "markdown",
   "id": "43967e03",
   "metadata": {},
   "source": [
    "## **REGRESI LOGISTIK**\n",
    "Regresi logistik memiliki beberapa kelebihan dibandingkan teknik analisis lain (Kuncoro, 2001): \n",
    "1. Regresi logistik tidak memiliki asumsi normalitas dan heteroskedastisitas. \n",
    "2. Variabel independen dalam regresi logistik tipe data dapat campuran baik kontinu, diskrit, dan dikotomis. \n",
    "3. Regresi logistik tidak membutuhkan keterbatasan dari variabel independennya. "
   ]
  },
  {
   "cell_type": "markdown",
   "id": "5c1f7880",
   "metadata": {},
   "source": [
    "## **DATASET**"
   ]
  },
  {
   "cell_type": "markdown",
   "id": "54ab0fc4",
   "metadata": {},
   "source": [
    "Dataset ini merupakan database **Cleveland** (data tentang pasien penyakit jantung ) yang diambil yaitu 14 Feature yang berasal dari 76 Feature. Berikut 14 Feature yang digunakan:\n",
    "1. **Age** : usia pasien\n",
    "2. **Sex** : jenis kelamin pasien\n",
    "3. **Chest Pain Type** : Tipe nyeri dada pasien (4 tipe)\n",
    "\n",
    "   a. Value 1: typical angina\n",
    "   \n",
    "   b. Value 2: atypical angina\n",
    "   \n",
    "   c. Value 3: non-anginal pain\n",
    "   \n",
    "   d. Value 4: asymptomatic\n",
    "   \n",
    "   \n",
    "4. **Trestbps** : Tekanan darah\n",
    "5. **Chol** : Serum cholestoral (mg/dl)\n",
    "6. **Fbs** : Gula darah puasa > 120 mg/dl\n",
    "\n",
    "   a. 1 : Benar\n",
    "   \n",
    "   b. 0 : Salah\n",
    "   \n",
    "   \n",
    "7. **Restecg** : Hasil elektrokardiografi\n",
    "\n",
    "   a. Value 0: normal\n",
    "   \n",
    "   b. Value 1: memiliki kelainan gelombang ST-T.\n",
    "   \n",
    "   c. Value 2: menunjukkan kemungkinan atau pasti hipertrofi ventrikel kiri menurut kriteria Estes.\n",
    "   \n",
    "   \n",
    "8. **Thalach** : Maksimum detak jantung\n",
    "9. **Exang**\n",
    "   \n",
    "   a. 1 : Benar\n",
    "   \n",
    "   b. 0 : Salah\n",
    "   \n",
    "   \n",
    "10. **Oldpeak** : Depresi ST\n",
    "11. **Slope** : Kemiringan segmen ST\n",
    "\n",
    "    a. Value 1: upsloping\n",
    "\n",
    "    b. Value 2: flat\n",
    "    \n",
    "    c. Value 3: downsloping\n",
    "    \n",
    "    \n",
    "12. **Ca** : Jumlah pembuluh darah (0-3)\n",
    "13. **Thal**\n",
    "\n",
    "    a. 3 : normal\n",
    "    \n",
    "    b. 6 : fixed defect\n",
    "    \n",
    "    c. 7 : reversable defect\n",
    "    \n",
    "    \n",
    "14. **Num** : Diagnosis penyakit jantung \n",
    "\n",
    "    a. Value 0: < 50% diameter narrowing\n",
    "    \n",
    "    b. Value 1: > 50% diameter narrowing\n",
    "\n",
    "\n",
    "**Sumber** : <a href=\"https://www.kaggle.com/datasets/rishidamarla/heart-disease-prediction\">https://www.kaggle.com/datasets/rishidamarla/heart-disease-prediction</a>"
   ]
  },
  {
   "cell_type": "markdown",
   "id": "b7891ece",
   "metadata": {},
   "source": [
    "## **OBJEKTIF**\n",
    "1. Membangun model machine learning (Regresi Logistik) dalam memprediksi diagnosa pasien penyakit jantung\n",
    "2. Mengetahui faktor yang sangat mempengaruhi penyakit jantung"
   ]
  },
  {
   "cell_type": "markdown",
   "id": "706555d7",
   "metadata": {},
   "source": [
    "## **IMPORT LIBRARY**"
   ]
  },
  {
   "cell_type": "code",
   "execution_count": 1,
   "id": "9540af6d",
   "metadata": {},
   "outputs": [],
   "source": [
    "import pandas as pd\n",
    "import numpy as np\n",
    "from numpy import unique\n",
    "import matplotlib.pyplot as plt\n",
    "import seaborn as sns\n",
    "import warnings\n",
    "warnings.filterwarnings('ignore')\n",
    "\n",
    "from scipy.stats import pearsonr\n",
    "from sklearn.preprocessing import LabelEncoder, StandardScaler\n",
    "from sklearn.model_selection import train_test_split, GridSearchCV\n",
    "from sklearn.linear_model import LogisticRegression\n",
    "from sklearn import metrics\n",
    "from sklearn.metrics import classification_report, confusion_matrix"
   ]
  },
  {
   "cell_type": "markdown",
   "id": "faf16a05",
   "metadata": {},
   "source": [
    "# LOAD DATA"
   ]
  },
  {
   "cell_type": "code",
   "execution_count": 2,
   "id": "7a3ce810",
   "metadata": {
    "scrolled": true
   },
   "outputs": [
    {
     "data": {
      "text/html": [
       "<div>\n",
       "<style scoped>\n",
       "    .dataframe tbody tr th:only-of-type {\n",
       "        vertical-align: middle;\n",
       "    }\n",
       "\n",
       "    .dataframe tbody tr th {\n",
       "        vertical-align: top;\n",
       "    }\n",
       "\n",
       "    .dataframe thead th {\n",
       "        text-align: right;\n",
       "    }\n",
       "</style>\n",
       "<table border=\"1\" class=\"dataframe\">\n",
       "  <thead>\n",
       "    <tr style=\"text-align: right;\">\n",
       "      <th></th>\n",
       "      <th>Age</th>\n",
       "      <th>Sex</th>\n",
       "      <th>Chest pain type</th>\n",
       "      <th>BP</th>\n",
       "      <th>Cholesterol</th>\n",
       "      <th>FBS over 120</th>\n",
       "      <th>EKG results</th>\n",
       "      <th>Max HR</th>\n",
       "      <th>Exercise angina</th>\n",
       "      <th>ST depression</th>\n",
       "      <th>Slope of ST</th>\n",
       "      <th>Number of vessels fluro</th>\n",
       "      <th>Thallium</th>\n",
       "      <th>Heart Disease</th>\n",
       "    </tr>\n",
       "  </thead>\n",
       "  <tbody>\n",
       "    <tr>\n",
       "      <th>0</th>\n",
       "      <td>70</td>\n",
       "      <td>1</td>\n",
       "      <td>4</td>\n",
       "      <td>130</td>\n",
       "      <td>322</td>\n",
       "      <td>0</td>\n",
       "      <td>2</td>\n",
       "      <td>109</td>\n",
       "      <td>0</td>\n",
       "      <td>2.4</td>\n",
       "      <td>2</td>\n",
       "      <td>3</td>\n",
       "      <td>3</td>\n",
       "      <td>Presence</td>\n",
       "    </tr>\n",
       "    <tr>\n",
       "      <th>1</th>\n",
       "      <td>67</td>\n",
       "      <td>0</td>\n",
       "      <td>3</td>\n",
       "      <td>115</td>\n",
       "      <td>564</td>\n",
       "      <td>0</td>\n",
       "      <td>2</td>\n",
       "      <td>160</td>\n",
       "      <td>0</td>\n",
       "      <td>1.6</td>\n",
       "      <td>2</td>\n",
       "      <td>0</td>\n",
       "      <td>7</td>\n",
       "      <td>Absence</td>\n",
       "    </tr>\n",
       "    <tr>\n",
       "      <th>2</th>\n",
       "      <td>57</td>\n",
       "      <td>1</td>\n",
       "      <td>2</td>\n",
       "      <td>124</td>\n",
       "      <td>261</td>\n",
       "      <td>0</td>\n",
       "      <td>0</td>\n",
       "      <td>141</td>\n",
       "      <td>0</td>\n",
       "      <td>0.3</td>\n",
       "      <td>1</td>\n",
       "      <td>0</td>\n",
       "      <td>7</td>\n",
       "      <td>Presence</td>\n",
       "    </tr>\n",
       "    <tr>\n",
       "      <th>3</th>\n",
       "      <td>64</td>\n",
       "      <td>1</td>\n",
       "      <td>4</td>\n",
       "      <td>128</td>\n",
       "      <td>263</td>\n",
       "      <td>0</td>\n",
       "      <td>0</td>\n",
       "      <td>105</td>\n",
       "      <td>1</td>\n",
       "      <td>0.2</td>\n",
       "      <td>2</td>\n",
       "      <td>1</td>\n",
       "      <td>7</td>\n",
       "      <td>Absence</td>\n",
       "    </tr>\n",
       "    <tr>\n",
       "      <th>4</th>\n",
       "      <td>74</td>\n",
       "      <td>0</td>\n",
       "      <td>2</td>\n",
       "      <td>120</td>\n",
       "      <td>269</td>\n",
       "      <td>0</td>\n",
       "      <td>2</td>\n",
       "      <td>121</td>\n",
       "      <td>1</td>\n",
       "      <td>0.2</td>\n",
       "      <td>1</td>\n",
       "      <td>1</td>\n",
       "      <td>3</td>\n",
       "      <td>Absence</td>\n",
       "    </tr>\n",
       "  </tbody>\n",
       "</table>\n",
       "</div>"
      ],
      "text/plain": [
       "   Age  Sex  Chest pain type   BP  Cholesterol  FBS over 120  EKG results  \\\n",
       "0   70    1                4  130          322             0            2   \n",
       "1   67    0                3  115          564             0            2   \n",
       "2   57    1                2  124          261             0            0   \n",
       "3   64    1                4  128          263             0            0   \n",
       "4   74    0                2  120          269             0            2   \n",
       "\n",
       "   Max HR  Exercise angina  ST depression  Slope of ST  \\\n",
       "0     109                0            2.4            2   \n",
       "1     160                0            1.6            2   \n",
       "2     141                0            0.3            1   \n",
       "3     105                1            0.2            2   \n",
       "4     121                1            0.2            1   \n",
       "\n",
       "   Number of vessels fluro  Thallium Heart Disease  \n",
       "0                        3         3      Presence  \n",
       "1                        0         7       Absence  \n",
       "2                        0         7      Presence  \n",
       "3                        1         7       Absence  \n",
       "4                        1         3       Absence  "
      ]
     },
     "execution_count": 2,
     "metadata": {},
     "output_type": "execute_result"
    }
   ],
   "source": [
    "df = pd.read_csv(\"Heart_Disease_Prediction.csv\")\n",
    "df.head()"
   ]
  },
  {
   "cell_type": "code",
   "execution_count": 3,
   "id": "e2f73276",
   "metadata": {},
   "outputs": [],
   "source": [
    "def struktur_data(X):\n",
    "    print('=======================================================================')\n",
    "    print('STRUKTUR DATA')\n",
    "    print('-----------------------------------------------------------------------')\n",
    "    print(f'Baris : {X.shape[0]}')\n",
    "    print(f'Kolom : {X.shape[1]}')\n",
    "    print(f'Nama {X.shape[1]} kolom pada dataset antara lain: ')\n",
    "    print(f'{X.columns.values}')\n",
    "    print('=======================================================================')\n",
    "    print('TYPE-TYPE DATA')\n",
    "    print('-----------------------------------------------------------------------')\n",
    "    display(X.info())"
   ]
  },
  {
   "cell_type": "code",
   "execution_count": 4,
   "id": "404f6cdb",
   "metadata": {},
   "outputs": [
    {
     "name": "stdout",
     "output_type": "stream",
     "text": [
      "=======================================================================\n",
      "STRUKTUR DATA\n",
      "-----------------------------------------------------------------------\n",
      "Baris : 270\n",
      "Kolom : 14\n",
      "Nama 14 kolom pada dataset antara lain: \n",
      "['Age' 'Sex' 'Chest pain type' 'BP' 'Cholesterol' 'FBS over 120'\n",
      " 'EKG results' 'Max HR' 'Exercise angina' 'ST depression' 'Slope of ST'\n",
      " 'Number of vessels fluro' 'Thallium' 'Heart Disease']\n",
      "=======================================================================\n",
      "TYPE-TYPE DATA\n",
      "-----------------------------------------------------------------------\n",
      "<class 'pandas.core.frame.DataFrame'>\n",
      "RangeIndex: 270 entries, 0 to 269\n",
      "Data columns (total 14 columns):\n",
      " #   Column                   Non-Null Count  Dtype  \n",
      "---  ------                   --------------  -----  \n",
      " 0   Age                      270 non-null    int64  \n",
      " 1   Sex                      270 non-null    int64  \n",
      " 2   Chest pain type          270 non-null    int64  \n",
      " 3   BP                       270 non-null    int64  \n",
      " 4   Cholesterol              270 non-null    int64  \n",
      " 5   FBS over 120             270 non-null    int64  \n",
      " 6   EKG results              270 non-null    int64  \n",
      " 7   Max HR                   270 non-null    int64  \n",
      " 8   Exercise angina          270 non-null    int64  \n",
      " 9   ST depression            270 non-null    float64\n",
      " 10  Slope of ST              270 non-null    int64  \n",
      " 11  Number of vessels fluro  270 non-null    int64  \n",
      " 12  Thallium                 270 non-null    int64  \n",
      " 13  Heart Disease            270 non-null    object \n",
      "dtypes: float64(1), int64(12), object(1)\n",
      "memory usage: 29.7+ KB\n"
     ]
    },
    {
     "data": {
      "text/plain": [
       "None"
      ]
     },
     "metadata": {},
     "output_type": "display_data"
    }
   ],
   "source": [
    "struktur_data(df)"
   ]
  },
  {
   "cell_type": "markdown",
   "id": "e37d4766",
   "metadata": {},
   "source": [
    "Berdasarkan hasil diatas dapat disimpulkan bahwa:\n",
    "1. Dataset terdiri dari **270 baris** dan **14 kolom/feature**.\n",
    "2. Semua feature memiliki jumlah data **not null** yang sama dengan baris secara keseluruhan sehingga tidak terindikasi adanya missing value."
   ]
  },
  {
   "cell_type": "markdown",
   "id": "6474f03b",
   "metadata": {},
   "source": [
    "# DATA PREPROCESSING"
   ]
  },
  {
   "cell_type": "code",
   "execution_count": 5,
   "id": "4c33259f",
   "metadata": {},
   "outputs": [],
   "source": [
    "#Cek dan penanganan data duplikat\n",
    "def data_duplikat(X):\n",
    "  dt_duplicated = X.duplicated().sum()\n",
    "  if dt_duplicated == 0:\n",
    "    print('Cek Data Duplicated')\n",
    "    print('-----------------------------------------------------------')\n",
    "    print('Jumlah Data Duplicated : {}'.format(dt_duplicated))\n",
    "  else:\n",
    "    print('Cek Data Duplicated')\n",
    "    print('---------------------------------------------------------------------------------------------------------------')\n",
    "    print(f'Jumlah Data Duplicated Sebelum Handling : {X.duplicated().sum()}')\n",
    "    print('Berikut 5 baris data duplikat:')\n",
    "    display(X[X.duplicated()].head())\n",
    "    X.drop_duplicates(inplace = True)\n",
    "    print('---------------------------------------------------------------------------------------------------------------')\n",
    "    print(f'Jumlah Data Duplicated Sesudah Handling : {X.duplicated().sum()}')"
   ]
  },
  {
   "cell_type": "code",
   "execution_count": 6,
   "id": "5b753dce",
   "metadata": {
    "scrolled": true
   },
   "outputs": [
    {
     "name": "stdout",
     "output_type": "stream",
     "text": [
      "Cek Data Duplicated\n",
      "-----------------------------------------------------------\n",
      "Jumlah Data Duplicated : 0\n"
     ]
    }
   ],
   "source": [
    "data_duplikat(df)"
   ]
  },
  {
   "cell_type": "code",
   "execution_count": 7,
   "id": "4d820856",
   "metadata": {},
   "outputs": [],
   "source": [
    "#Identifikasi Kolom\n",
    "def identifikasi_kolom(X):\n",
    "    hasil = pd.DataFrame({\n",
    "        'Total Kategori' : X.nunique(),\n",
    "        '%' : round((X.nunique()/X.shape[0])*100,2)\n",
    "    })\n",
    "    return hasil"
   ]
  },
  {
   "cell_type": "code",
   "execution_count": 8,
   "id": "3dae4681",
   "metadata": {},
   "outputs": [
    {
     "data": {
      "text/html": [
       "<div>\n",
       "<style scoped>\n",
       "    .dataframe tbody tr th:only-of-type {\n",
       "        vertical-align: middle;\n",
       "    }\n",
       "\n",
       "    .dataframe tbody tr th {\n",
       "        vertical-align: top;\n",
       "    }\n",
       "\n",
       "    .dataframe thead th {\n",
       "        text-align: right;\n",
       "    }\n",
       "</style>\n",
       "<table border=\"1\" class=\"dataframe\">\n",
       "  <thead>\n",
       "    <tr style=\"text-align: right;\">\n",
       "      <th></th>\n",
       "      <th>Total Kategori</th>\n",
       "      <th>%</th>\n",
       "    </tr>\n",
       "  </thead>\n",
       "  <tbody>\n",
       "    <tr>\n",
       "      <th>Age</th>\n",
       "      <td>41</td>\n",
       "      <td>15.19</td>\n",
       "    </tr>\n",
       "    <tr>\n",
       "      <th>Sex</th>\n",
       "      <td>2</td>\n",
       "      <td>0.74</td>\n",
       "    </tr>\n",
       "    <tr>\n",
       "      <th>Chest pain type</th>\n",
       "      <td>4</td>\n",
       "      <td>1.48</td>\n",
       "    </tr>\n",
       "    <tr>\n",
       "      <th>BP</th>\n",
       "      <td>47</td>\n",
       "      <td>17.41</td>\n",
       "    </tr>\n",
       "    <tr>\n",
       "      <th>Cholesterol</th>\n",
       "      <td>144</td>\n",
       "      <td>53.33</td>\n",
       "    </tr>\n",
       "    <tr>\n",
       "      <th>FBS over 120</th>\n",
       "      <td>2</td>\n",
       "      <td>0.74</td>\n",
       "    </tr>\n",
       "    <tr>\n",
       "      <th>EKG results</th>\n",
       "      <td>3</td>\n",
       "      <td>1.11</td>\n",
       "    </tr>\n",
       "    <tr>\n",
       "      <th>Max HR</th>\n",
       "      <td>90</td>\n",
       "      <td>33.33</td>\n",
       "    </tr>\n",
       "    <tr>\n",
       "      <th>Exercise angina</th>\n",
       "      <td>2</td>\n",
       "      <td>0.74</td>\n",
       "    </tr>\n",
       "    <tr>\n",
       "      <th>ST depression</th>\n",
       "      <td>39</td>\n",
       "      <td>14.44</td>\n",
       "    </tr>\n",
       "    <tr>\n",
       "      <th>Slope of ST</th>\n",
       "      <td>3</td>\n",
       "      <td>1.11</td>\n",
       "    </tr>\n",
       "    <tr>\n",
       "      <th>Number of vessels fluro</th>\n",
       "      <td>4</td>\n",
       "      <td>1.48</td>\n",
       "    </tr>\n",
       "    <tr>\n",
       "      <th>Thallium</th>\n",
       "      <td>3</td>\n",
       "      <td>1.11</td>\n",
       "    </tr>\n",
       "    <tr>\n",
       "      <th>Heart Disease</th>\n",
       "      <td>2</td>\n",
       "      <td>0.74</td>\n",
       "    </tr>\n",
       "  </tbody>\n",
       "</table>\n",
       "</div>"
      ],
      "text/plain": [
       "                         Total Kategori      %\n",
       "Age                                  41  15.19\n",
       "Sex                                   2   0.74\n",
       "Chest pain type                       4   1.48\n",
       "BP                                   47  17.41\n",
       "Cholesterol                         144  53.33\n",
       "FBS over 120                          2   0.74\n",
       "EKG results                           3   1.11\n",
       "Max HR                               90  33.33\n",
       "Exercise angina                       2   0.74\n",
       "ST depression                        39  14.44\n",
       "Slope of ST                           3   1.11\n",
       "Number of vessels fluro               4   1.48\n",
       "Thallium                              3   1.11\n",
       "Heart Disease                         2   0.74"
      ]
     },
     "execution_count": 8,
     "metadata": {},
     "output_type": "execute_result"
    }
   ],
   "source": [
    "identifikasi_kolom(df)"
   ]
  },
  {
   "cell_type": "code",
   "execution_count": 9,
   "id": "0eff3188",
   "metadata": {},
   "outputs": [],
   "source": [
    "#Data Missing\n",
    "def data_missing(X):\n",
    "    hasil = pd.DataFrame({\n",
    "        'Total Data Missing' : X.isna().sum(),\n",
    "        '%' : round((X.isna().sum()/X.shape[0])*100,2)\n",
    "    })\n",
    "    return hasil"
   ]
  },
  {
   "cell_type": "code",
   "execution_count": 10,
   "id": "11fffe7f",
   "metadata": {},
   "outputs": [
    {
     "data": {
      "text/html": [
       "<div>\n",
       "<style scoped>\n",
       "    .dataframe tbody tr th:only-of-type {\n",
       "        vertical-align: middle;\n",
       "    }\n",
       "\n",
       "    .dataframe tbody tr th {\n",
       "        vertical-align: top;\n",
       "    }\n",
       "\n",
       "    .dataframe thead th {\n",
       "        text-align: right;\n",
       "    }\n",
       "</style>\n",
       "<table border=\"1\" class=\"dataframe\">\n",
       "  <thead>\n",
       "    <tr style=\"text-align: right;\">\n",
       "      <th></th>\n",
       "      <th>Total Data Missing</th>\n",
       "      <th>%</th>\n",
       "    </tr>\n",
       "  </thead>\n",
       "  <tbody>\n",
       "    <tr>\n",
       "      <th>Age</th>\n",
       "      <td>0</td>\n",
       "      <td>0.0</td>\n",
       "    </tr>\n",
       "    <tr>\n",
       "      <th>Sex</th>\n",
       "      <td>0</td>\n",
       "      <td>0.0</td>\n",
       "    </tr>\n",
       "    <tr>\n",
       "      <th>Chest pain type</th>\n",
       "      <td>0</td>\n",
       "      <td>0.0</td>\n",
       "    </tr>\n",
       "    <tr>\n",
       "      <th>BP</th>\n",
       "      <td>0</td>\n",
       "      <td>0.0</td>\n",
       "    </tr>\n",
       "    <tr>\n",
       "      <th>Cholesterol</th>\n",
       "      <td>0</td>\n",
       "      <td>0.0</td>\n",
       "    </tr>\n",
       "    <tr>\n",
       "      <th>FBS over 120</th>\n",
       "      <td>0</td>\n",
       "      <td>0.0</td>\n",
       "    </tr>\n",
       "    <tr>\n",
       "      <th>EKG results</th>\n",
       "      <td>0</td>\n",
       "      <td>0.0</td>\n",
       "    </tr>\n",
       "    <tr>\n",
       "      <th>Max HR</th>\n",
       "      <td>0</td>\n",
       "      <td>0.0</td>\n",
       "    </tr>\n",
       "    <tr>\n",
       "      <th>Exercise angina</th>\n",
       "      <td>0</td>\n",
       "      <td>0.0</td>\n",
       "    </tr>\n",
       "    <tr>\n",
       "      <th>ST depression</th>\n",
       "      <td>0</td>\n",
       "      <td>0.0</td>\n",
       "    </tr>\n",
       "    <tr>\n",
       "      <th>Slope of ST</th>\n",
       "      <td>0</td>\n",
       "      <td>0.0</td>\n",
       "    </tr>\n",
       "    <tr>\n",
       "      <th>Number of vessels fluro</th>\n",
       "      <td>0</td>\n",
       "      <td>0.0</td>\n",
       "    </tr>\n",
       "    <tr>\n",
       "      <th>Thallium</th>\n",
       "      <td>0</td>\n",
       "      <td>0.0</td>\n",
       "    </tr>\n",
       "    <tr>\n",
       "      <th>Heart Disease</th>\n",
       "      <td>0</td>\n",
       "      <td>0.0</td>\n",
       "    </tr>\n",
       "  </tbody>\n",
       "</table>\n",
       "</div>"
      ],
      "text/plain": [
       "                         Total Data Missing    %\n",
       "Age                                       0  0.0\n",
       "Sex                                       0  0.0\n",
       "Chest pain type                           0  0.0\n",
       "BP                                        0  0.0\n",
       "Cholesterol                               0  0.0\n",
       "FBS over 120                              0  0.0\n",
       "EKG results                               0  0.0\n",
       "Max HR                                    0  0.0\n",
       "Exercise angina                           0  0.0\n",
       "ST depression                             0  0.0\n",
       "Slope of ST                               0  0.0\n",
       "Number of vessels fluro                   0  0.0\n",
       "Thallium                                  0  0.0\n",
       "Heart Disease                             0  0.0"
      ]
     },
     "execution_count": 10,
     "metadata": {},
     "output_type": "execute_result"
    }
   ],
   "source": [
    "data_missing(df)"
   ]
  },
  {
   "cell_type": "code",
   "execution_count": 11,
   "id": "fd65c7ea",
   "metadata": {},
   "outputs": [],
   "source": [
    "#Cek Outlier\n",
    "def cekOutlier (X, k):\n",
    "    col = X.columns\n",
    "    n = len(col)\n",
    "    b = (n//k)+1\n",
    "    plt.figure(figsize=(18,7))\n",
    "    plt.suptitle('Boxplot for Checking Data Outliers', fontsize = 16, fontweight = \"bold\")\n",
    "    for i, kolom in enumerate(col):\n",
    "        ax = plt.subplot(b, k, i+1)\n",
    "        ax = plt.subplots_adjust(hspace = 0.3)\n",
    "        sns.boxplot(data = X, x = kolom, ax = ax)"
   ]
  },
  {
   "cell_type": "code",
   "execution_count": 12,
   "id": "15bb8581",
   "metadata": {},
   "outputs": [
    {
     "data": {
      "image/png": "[encoded data removed]",
      "text/plain": [
       "<Figure size 1296x504 with 5 Axes>"
      ]
     },
     "metadata": {
      "needs_background": "light"
     },
     "output_type": "display_data"
    }
   ],
   "source": [
    "data_continu = df[['Age', 'BP', 'Cholesterol', 'Max HR', 'ST depression']] #Feature-feature yang type data continous\n",
    "cekOutlier(data_continu, 3)"
   ]
  },
  {
   "cell_type": "markdown",
   "id": "ac0f132b",
   "metadata": {},
   "source": [
    "Berdasarkan hasil diatas dapat diketahui bahwa:\n",
    "1. **Tidak** terdapat **data duplikat**.\n",
    "2. Nilai pada setiap kolom telah sesuai dengan teori atau penjelasan dataset sehingga dapat dikatakan/diasumsikan tidak adanya kesalahan dalam penginputan nilai.\n",
    "3. **Tidak** terdapat **data yang missing**.\n",
    "4. Adanya data yang outlier akan tetapi data tersebut keterdapatannya benar atau bukan disebabkan atas kesalahan.\n",
    "5. Persebaran data berdasarkan box plot dapat diasumsikan data kontinu **tidak normal** karena relatif tidak seimbang."
   ]
  },
  {
   "cell_type": "markdown",
   "id": "cbb13158",
   "metadata": {},
   "source": [
    "# EKSPLORASI DATA ANALISIS"
   ]
  },
  {
   "cell_type": "code",
   "execution_count": 13,
   "id": "d61f7ac8",
   "metadata": {
    "scrolled": true
   },
   "outputs": [
    {
     "data": {
      "text/html": [
       "<div>\n",
       "<style scoped>\n",
       "    .dataframe tbody tr th:only-of-type {\n",
       "        vertical-align: middle;\n",
       "    }\n",
       "\n",
       "    .dataframe tbody tr th {\n",
       "        vertical-align: top;\n",
       "    }\n",
       "\n",
       "    .dataframe thead th {\n",
       "        text-align: right;\n",
       "    }\n",
       "</style>\n",
       "<table border=\"1\" class=\"dataframe\">\n",
       "  <thead>\n",
       "    <tr style=\"text-align: right;\">\n",
       "      <th></th>\n",
       "      <th>count</th>\n",
       "      <th>mean</th>\n",
       "      <th>std</th>\n",
       "      <th>min</th>\n",
       "      <th>25%</th>\n",
       "      <th>50%</th>\n",
       "      <th>75%</th>\n",
       "      <th>max</th>\n",
       "    </tr>\n",
       "  </thead>\n",
       "  <tbody>\n",
       "    <tr>\n",
       "      <th>Age</th>\n",
       "      <td>270.0</td>\n",
       "      <td>54.433333</td>\n",
       "      <td>9.109067</td>\n",
       "      <td>29.0</td>\n",
       "      <td>48.0</td>\n",
       "      <td>55.0</td>\n",
       "      <td>61.0</td>\n",
       "      <td>77.0</td>\n",
       "    </tr>\n",
       "    <tr>\n",
       "      <th>BP</th>\n",
       "      <td>270.0</td>\n",
       "      <td>131.344444</td>\n",
       "      <td>17.861608</td>\n",
       "      <td>94.0</td>\n",
       "      <td>120.0</td>\n",
       "      <td>130.0</td>\n",
       "      <td>140.0</td>\n",
       "      <td>200.0</td>\n",
       "    </tr>\n",
       "    <tr>\n",
       "      <th>Cholesterol</th>\n",
       "      <td>270.0</td>\n",
       "      <td>249.659259</td>\n",
       "      <td>51.686237</td>\n",
       "      <td>126.0</td>\n",
       "      <td>213.0</td>\n",
       "      <td>245.0</td>\n",
       "      <td>280.0</td>\n",
       "      <td>564.0</td>\n",
       "    </tr>\n",
       "    <tr>\n",
       "      <th>Max HR</th>\n",
       "      <td>270.0</td>\n",
       "      <td>149.677778</td>\n",
       "      <td>23.165717</td>\n",
       "      <td>71.0</td>\n",
       "      <td>133.0</td>\n",
       "      <td>153.5</td>\n",
       "      <td>166.0</td>\n",
       "      <td>202.0</td>\n",
       "    </tr>\n",
       "    <tr>\n",
       "      <th>ST depression</th>\n",
       "      <td>270.0</td>\n",
       "      <td>1.050000</td>\n",
       "      <td>1.145210</td>\n",
       "      <td>0.0</td>\n",
       "      <td>0.0</td>\n",
       "      <td>0.8</td>\n",
       "      <td>1.6</td>\n",
       "      <td>6.2</td>\n",
       "    </tr>\n",
       "  </tbody>\n",
       "</table>\n",
       "</div>"
      ],
      "text/plain": [
       "               count        mean        std    min    25%    50%    75%    max\n",
       "Age            270.0   54.433333   9.109067   29.0   48.0   55.0   61.0   77.0\n",
       "BP             270.0  131.344444  17.861608   94.0  120.0  130.0  140.0  200.0\n",
       "Cholesterol    270.0  249.659259  51.686237  126.0  213.0  245.0  280.0  564.0\n",
       "Max HR         270.0  149.677778  23.165717   71.0  133.0  153.5  166.0  202.0\n",
       "ST depression  270.0    1.050000   1.145210    0.0    0.0    0.8    1.6    6.2"
      ]
     },
     "execution_count": 13,
     "metadata": {},
     "output_type": "execute_result"
    }
   ],
   "source": [
    "#Statistik Deskriptif\n",
    "data_continu.describe().T"
   ]
  },
  {
   "cell_type": "code",
   "execution_count": 18,
   "id": "8ec7ebfa",
   "metadata": {
    "scrolled": true
   },
   "outputs": [
    {
     "data": {
      "image/png": "[encoded data removed]",
      "text/plain": [
       "<Figure size 504x360 with 1 Axes>"
      ]
     },
     "metadata": {},
     "output_type": "display_data"
    }
   ],
   "source": [
    "#Proporsi Target\n",
    "plt.figure(figsize = (7, 5))\n",
    "labels = ['Absence', 'Precence']\n",
    "c=[\"g\",\"r\"]\n",
    "plt.pie(df['Heart Disease'].value_counts(),\n",
    "        autopct = '%1.1f%%',\n",
    "        textprops = {'fontsize': 13},\n",
    "        explode =(0.1, 0),\n",
    "        labels = labels,\n",
    "        shadow = True,\n",
    "        colors = c\n",
    "        )\n",
    "plt.title(f'Distribusi Heart Disease \\nn = {df.shape[0]}', fontsize = 15)\n",
    "plt.ylabel('')\n",
    "plt.show()"
   ]
  },
  {
   "cell_type": "markdown",
   "id": "dd481e25",
   "metadata": {},
   "source": [
    "Berdasarkan plot diatas dapat disimpulkan bahwa:\n",
    "1. Data yang digunakan yaitu data sampel diagnosa pasien penyakit jantung sebanyak 270 sampel.\n",
    "2. 270 data terdiri atas 55.6% pasien tidak terdiagnosa penyakit jantung sedangkan 44.4% terdiagnosa penyakit jantung.\n",
    "3. Feature target (Diagnosa penyakit jantung) relatif balanced/seimbang."
   ]
  },
  {
   "cell_type": "code",
   "execution_count": 20,
   "id": "3a6df426",
   "metadata": {},
   "outputs": [
    {
     "data": {
      "image/png": "[encoded data removed]",
      "text/plain": [
       "<Figure size 576x720 with 2 Axes>"
      ]
     },
     "metadata": {
      "needs_background": "light"
     },
     "output_type": "display_data"
    }
   ],
   "source": [
    "#Korelasi\n",
    "le = LabelEncoder()\n",
    "data3 = df.copy()\n",
    "data3['Heart Disease'] = le.fit_transform(data3['Heart Disease'])\n",
    "data3\n",
    "\n",
    "plt.figure(figsize = (8,10))\n",
    "sns.heatmap(data3.corr().round(2).sort_values('Heart Disease', ascending=False)[['Heart Disease']],annot=True)\n",
    "plt.title('Koefisien Korelasi variabel Heart Disease dengan variabel lainnya \\n', fontsize = 15)\n",
    "plt.show()"
   ]
  },
  {
   "cell_type": "code",
   "execution_count": 24,
   "id": "fbc3403d",
   "metadata": {
    "scrolled": false
   },
   "outputs": [
    {
     "data": {
      "image/png": "[encoded data removed]",
      "text/plain": [
       "<Figure size 720x576 with 1 Axes>"
      ]
     },
     "metadata": {
      "needs_background": "light"
     },
     "output_type": "display_data"
    }
   ],
   "source": [
    "#Distribusi Thallium VS Heart Disease\n",
    "c=[\"red\",\"green\"]\n",
    "n_hues = df['Heart Disease'].unique().size\n",
    "total = df['Thallium'].value_counts()\n",
    "\n",
    "plt.figure(figsize = (10,8))\n",
    "ax = sns.countplot(df['Thallium'], \n",
    "                   hue= df['Heart Disease'], \n",
    "                   order=total.index,\n",
    "                   palette = c)\n",
    "plt.title(\"HEART DISEASE VS THALLIUM \\n\",fontsize=15)\n",
    "plt.xlabel(\"THALlIUM\", fontsize = 14)\n",
    "plt.ylabel(\"FREQUENCY\", fontsize = 14)\n",
    "plt.tight_layout()\n",
    "\n",
    "plt.xticks(fontsize=12)\n",
    "plt.yticks(fontsize=12)\n",
    "\n",
    "for p in ax.patches:\n",
    "    height = p.get_height()\n",
    "    ax.text(p.get_x()+p.get_width()/2.,\n",
    "            height + 2,\n",
    "            '{}'.format(height),\n",
    "            ha=\"center\", fontsize=12)"
   ]
  },
  {
   "cell_type": "markdown",
   "id": "ee1c605e",
   "metadata": {},
   "source": [
    "Berdasarkan plot diatas dapat disimpulkan bahwa:\n",
    "1. Hanya variabel/feature **Thallium** yang memiliki **korelasi > 0.5** terhadap variabel/feature **Heart Disease**.\n",
    "2. Pengaruh diagnosa penyakit jantung pada feature **Thallium** dibagi menjadi tiga kategori. Dimana kategori **Reversable Defect/Cacat tidak permanen** menjadi penyumbang terbanyak pasien terdiagnosa penyakit jantung sedangkan kategori **Normal** menjadi penyumbang terrendah pasien terdiagnosa penyakit jantung.\n",
    "3. Terdapat variabel/feature yang memiliki **korelasi negatif** yaitu **FBS over 120** dan **Max HR** sehingga kedua feature memiliki hubungan berbanding terbarik dengan feature **Heart Disease**."
   ]
  },
  {
   "cell_type": "code",
   "execution_count": 26,
   "id": "c56d108f",
   "metadata": {},
   "outputs": [],
   "source": [
    "#Transformasi Data\n",
    "le = LabelEncoder()\n",
    "df['Heart Disease'] = le.fit_transform(df['Heart Disease'])"
   ]
  },
  {
   "cell_type": "code",
   "execution_count": 27,
   "id": "71e9b25d",
   "metadata": {},
   "outputs": [],
   "source": [
    "#Normalisasi\n",
    "scaling = StandardScaler()"
   ]
  },
  {
   "cell_type": "code",
   "execution_count": 30,
   "id": "e1b2bdd4",
   "metadata": {},
   "outputs": [
    {
     "data": {
      "text/html": [
       "<div>\n",
       "<style scoped>\n",
       "    .dataframe tbody tr th:only-of-type {\n",
       "        vertical-align: middle;\n",
       "    }\n",
       "\n",
       "    .dataframe tbody tr th {\n",
       "        vertical-align: top;\n",
       "    }\n",
       "\n",
       "    .dataframe thead th {\n",
       "        text-align: right;\n",
       "    }\n",
       "</style>\n",
       "<table border=\"1\" class=\"dataframe\">\n",
       "  <thead>\n",
       "    <tr style=\"text-align: right;\">\n",
       "      <th></th>\n",
       "      <th>Age</th>\n",
       "      <th>Sex</th>\n",
       "      <th>Chest pain type</th>\n",
       "      <th>BP</th>\n",
       "      <th>Cholesterol</th>\n",
       "      <th>FBS over 120</th>\n",
       "      <th>EKG results</th>\n",
       "      <th>Max HR</th>\n",
       "      <th>Exercise angina</th>\n",
       "      <th>ST depression</th>\n",
       "      <th>Slope of ST</th>\n",
       "      <th>Number of vessels fluro</th>\n",
       "      <th>Thallium</th>\n",
       "    </tr>\n",
       "  </thead>\n",
       "  <tbody>\n",
       "    <tr>\n",
       "      <th>0</th>\n",
       "      <td>1.712094</td>\n",
       "      <td>0.689500</td>\n",
       "      <td>0.870928</td>\n",
       "      <td>-0.075410</td>\n",
       "      <td>1.402212</td>\n",
       "      <td>-0.417029</td>\n",
       "      <td>0.981664</td>\n",
       "      <td>-1.759208</td>\n",
       "      <td>-0.701222</td>\n",
       "      <td>1.181012</td>\n",
       "      <td>0.676419</td>\n",
       "      <td>2.472682</td>\n",
       "      <td>-0.875706</td>\n",
       "    </tr>\n",
       "    <tr>\n",
       "      <th>1</th>\n",
       "      <td>1.382140</td>\n",
       "      <td>-1.450327</td>\n",
       "      <td>-0.183559</td>\n",
       "      <td>-0.916759</td>\n",
       "      <td>6.093004</td>\n",
       "      <td>-0.417029</td>\n",
       "      <td>0.981664</td>\n",
       "      <td>0.446409</td>\n",
       "      <td>-0.701222</td>\n",
       "      <td>0.481153</td>\n",
       "      <td>0.676419</td>\n",
       "      <td>-0.711535</td>\n",
       "      <td>1.189277</td>\n",
       "    </tr>\n",
       "    <tr>\n",
       "      <th>2</th>\n",
       "      <td>0.282294</td>\n",
       "      <td>0.689500</td>\n",
       "      <td>-1.238045</td>\n",
       "      <td>-0.411950</td>\n",
       "      <td>0.219823</td>\n",
       "      <td>-0.417029</td>\n",
       "      <td>-1.026285</td>\n",
       "      <td>-0.375291</td>\n",
       "      <td>-0.701222</td>\n",
       "      <td>-0.656118</td>\n",
       "      <td>-0.954234</td>\n",
       "      <td>-0.711535</td>\n",
       "      <td>1.189277</td>\n",
       "    </tr>\n",
       "    <tr>\n",
       "      <th>3</th>\n",
       "      <td>1.052186</td>\n",
       "      <td>0.689500</td>\n",
       "      <td>0.870928</td>\n",
       "      <td>-0.187590</td>\n",
       "      <td>0.258589</td>\n",
       "      <td>-0.417029</td>\n",
       "      <td>-1.026285</td>\n",
       "      <td>-1.932198</td>\n",
       "      <td>1.426081</td>\n",
       "      <td>-0.743600</td>\n",
       "      <td>0.676419</td>\n",
       "      <td>0.349871</td>\n",
       "      <td>1.189277</td>\n",
       "    </tr>\n",
       "    <tr>\n",
       "      <th>4</th>\n",
       "      <td>2.152032</td>\n",
       "      <td>-1.450327</td>\n",
       "      <td>-1.238045</td>\n",
       "      <td>-0.636310</td>\n",
       "      <td>0.374890</td>\n",
       "      <td>-0.417029</td>\n",
       "      <td>0.981664</td>\n",
       "      <td>-1.240239</td>\n",
       "      <td>1.426081</td>\n",
       "      <td>-0.743600</td>\n",
       "      <td>-0.954234</td>\n",
       "      <td>0.349871</td>\n",
       "      <td>-0.875706</td>\n",
       "    </tr>\n",
       "  </tbody>\n",
       "</table>\n",
       "</div>"
      ],
      "text/plain": [
       "        Age       Sex  Chest pain type        BP  Cholesterol  FBS over 120  \\\n",
       "0  1.712094  0.689500         0.870928 -0.075410     1.402212     -0.417029   \n",
       "1  1.382140 -1.450327        -0.183559 -0.916759     6.093004     -0.417029   \n",
       "2  0.282294  0.689500        -1.238045 -0.411950     0.219823     -0.417029   \n",
       "3  1.052186  0.689500         0.870928 -0.187590     0.258589     -0.417029   \n",
       "4  2.152032 -1.450327        -1.238045 -0.636310     0.374890     -0.417029   \n",
       "\n",
       "   EKG results    Max HR  Exercise angina  ST depression  Slope of ST  \\\n",
       "0     0.981664 -1.759208        -0.701222       1.181012     0.676419   \n",
       "1     0.981664  0.446409        -0.701222       0.481153     0.676419   \n",
       "2    -1.026285 -0.375291        -0.701222      -0.656118    -0.954234   \n",
       "3    -1.026285 -1.932198         1.426081      -0.743600     0.676419   \n",
       "4     0.981664 -1.240239         1.426081      -0.743600    -0.954234   \n",
       "\n",
       "   Number of vessels fluro  Thallium  \n",
       "0                 2.472682 -0.875706  \n",
       "1                -0.711535  1.189277  \n",
       "2                -0.711535  1.189277  \n",
       "3                 0.349871  1.189277  \n",
       "4                 0.349871 -0.875706  "
      ]
     },
     "execution_count": 30,
     "metadata": {},
     "output_type": "execute_result"
    }
   ],
   "source": [
    "#Data dengan Outlier\n",
    "X = df.drop('Heart Disease', axis = 1)\n",
    "y = df['Heart Disease']\n",
    "col = X.columns\n",
    "X_sc = pd.DataFrame(X, columns = col)\n",
    "X_sc[col] = scaling.fit_transform(X)\n",
    "X_sc.head()"
   ]
  },
  {
   "cell_type": "code",
   "execution_count": 31,
   "id": "f8d123b2",
   "metadata": {},
   "outputs": [],
   "source": [
    "#Spliting Data (80:20)\n",
    "X_train, X_test, y_train, y_test = train_test_split(X_sc, y, test_size = 0.15, random_state = 42)"
   ]
  },
  {
   "cell_type": "markdown",
   "id": "82b09e16",
   "metadata": {},
   "source": [
    "# MODELING"
   ]
  },
  {
   "cell_type": "code",
   "execution_count": 32,
   "id": "e1ed54f6",
   "metadata": {},
   "outputs": [],
   "source": [
    "parameters = {\n",
    "    'C' : np.logspace(-2,6,9),\n",
    "    'penalty' : ['l1', 'l2']\n",
    "}\n",
    "\n",
    "lg = LogisticRegression(random_state = 42, max_iter=10000)"
   ]
  },
  {
   "cell_type": "code",
   "execution_count": 33,
   "id": "bfa8cf38",
   "metadata": {},
   "outputs": [],
   "source": [
    "def model(models, parameter, cv, Xtrain, ytrain):\n",
    "    grid = GridSearchCV(models, parameter, n_jobs = 1, cv = cv).fit(Xtrain, ytrain)\n",
    "    print(\"Tuned Parameters: {}\".format(grid.best_params_))"
   ]
  },
  {
   "cell_type": "code",
   "execution_count": 35,
   "id": "378132d4",
   "metadata": {},
   "outputs": [
    {
     "name": "stdout",
     "output_type": "stream",
     "text": [
      "Tuned Parameters: {'C': 0.01, 'penalty': 'l2'}\n"
     ]
    }
   ],
   "source": [
    "#Dangan dengan Outlier\n",
    "model(lg, parameters, 10, X_train, y_train)"
   ]
  },
  {
   "cell_type": "markdown",
   "id": "c4d22726",
   "metadata": {},
   "source": [
    "## EVALUASI MODEL"
   ]
  },
  {
   "cell_type": "code",
   "execution_count": 36,
   "id": "a0eacb48",
   "metadata": {},
   "outputs": [],
   "source": [
    "def evaluasi_model(model, Xtrain, ytrain, Xtest, ytest):\n",
    "    model = model\n",
    "    ypred = model.predict(Xtest)\n",
    "    print(\"EVALUASI MODEL\")\n",
    "    print(\"=======================================================\")\n",
    "    print(classification_report(ytest, ypred))\n",
    "    print(\"=======================================================\")\n",
    "    print('Training set score : {:.2f}'.format(model.score(Xtrain, ytrain)))\n",
    "    print('Testing set score  : {:.2f}'.format(model.score(Xtest, ytest)))\n",
    "    print(\"=======================================================\")\n",
    "    cm = confusion_matrix(ytest, ypred)\n",
    "    sns.heatmap(cm, annot = True)\n",
    "    plt.title('Confusion Matrix\\n n = {} \\n'.format(Xtest.shape[0]), fontsize=12)\n",
    "    plt.show()\n",
    "    print(\"=======================================================\")"
   ]
  },
  {
   "cell_type": "code",
   "execution_count": 37,
   "id": "37152ac7",
   "metadata": {},
   "outputs": [
    {
     "name": "stdout",
     "output_type": "stream",
     "text": [
      "EVALUASI MODEL\n",
      "=======================================================\n",
      "              precision    recall  f1-score   support\n",
      "\n",
      "           0       0.79      1.00      0.88        23\n",
      "           1       1.00      0.67      0.80        18\n",
      "\n",
      "    accuracy                           0.85        41\n",
      "   macro avg       0.90      0.83      0.84        41\n",
      "weighted avg       0.88      0.85      0.85        41\n",
      "\n",
      "=======================================================\n",
      "Training set score : 0.86\n",
      "Testing set score  : 0.85\n",
      "=======================================================\n"
     ]
    },
    {
     "data": {
      "image/png": "[encoded data removed]",
      "text/plain": [
       "<Figure size 432x288 with 2 Axes>"
      ]
     },
     "metadata": {
      "needs_background": "light"
     },
     "output_type": "display_data"
    },
    {
     "name": "stdout",
     "output_type": "stream",
     "text": [
      "=======================================================\n"
     ]
    }
   ],
   "source": [
    "model = LogisticRegression(C = 0.01, penalty = 'l2', random_state=42).fit(X_train,y_train)\n",
    "evaluasi_model(model, X_train, y_train, X_test, y_test)"
   ]
  },
  {
   "cell_type": "markdown",
   "id": "88e7034e",
   "metadata": {},
   "source": [
    "## Kesimpulan"
   ]
  },
  {
   "cell_type": "markdown",
   "id": "6968ece5",
   "metadata": {},
   "source": [
    "Berdasarkan hasil diatas dapat diketahui bahwa:\n",
    "1. Model regresi logistik yang dibangun untuk memprediksi pasien diagnosa penyakit jantung didapatkan akurasi sebesar 85% sehingga model yang dibuat telah baik.\n",
    "2. Faktor yang paling mempengaruhi diagnosa penyakit jantung yaitu Thallium dengan nilai korelasi sebesar 53%. Dimana kategori Reversable Defect/Cacat tidak permanen menjadi penyumbang terbanyak pasien terdiagnosa penyakit jantung sedangkan kategori Normal menjadi penyumbang terrendah pasien terdiagnosa penyakit jantung.\n",
    "\n",
    "Rekomendasi:\n",
    "1. Melakukan modeling menggunakan metode lain maupun parameter-parameter lainnya pada saat tuning hyperparameter guna mendapatkan model yang lebih baik.\n",
    "2. Melakukan perlakuan khusus terhadap Thallium agar pasien tidak terjadinya kecacatan yang berulang/berubah pada Thallium yang menyumbangkan terbanyak pasien terdiagnosa penyakit jantung."
   ]
  }
 ],
 "metadata": {
  "kernelspec": {
   "display_name": "Python 3 (ipykernel)",
   "language": "python",
   "name": "python3"
  },
  "language_info": {
   "codemirror_mode": {
    "name": "ipython",
    "version": 3
   },
   "file_extension": ".py",
   "mimetype": "text/x-python",
   "name": "python",
   "nbconvert_exporter": "python",
   "pygments_lexer": "ipython3",
   "version": "3.9.13"
  }
 },
 "nbformat": 4,
 "nbformat_minor": 5
}
